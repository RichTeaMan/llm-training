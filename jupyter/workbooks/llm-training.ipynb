{
 "cells": [
  {
   "cell_type": "code",
   "execution_count": null,
   "id": "df21f7f5-7a46-4203-9101-e62d6a6ae9ba",
   "metadata": {},
   "outputs": [],
   "source": [
    "! ls ../data\n"
   ]
  },
  {
   "cell_type": "code",
   "execution_count": null,
   "id": "4bcb93bb-7b80-4e47-86d5-f4779269539d",
   "metadata": {},
   "outputs": [],
   "source": [
    "with open('../data/tiny-shakespeare.txt', 'r', encoding='utf-8') as f:\n",
    "    text = f.read()"
   ]
  },
  {
   "cell_type": "code",
   "execution_count": null,
   "id": "8b2c419b-d555-467b-8bb5-b777fb142ce2",
   "metadata": {},
   "outputs": [],
   "source": [
    "print(f'Length of dataset: {len(text)}')"
   ]
  },
  {
   "cell_type": "code",
   "execution_count": null,
   "id": "57a63de5-3f69-4702-94aa-58f0349c48a5",
   "metadata": {},
   "outputs": [],
   "source": [
    "print(text[:1000])"
   ]
  },
  {
   "cell_type": "code",
   "execution_count": null,
   "id": "7ec33e1c-f4db-4736-8349-8c853a989e58",
   "metadata": {},
   "outputs": [],
   "source": []
  }
 ],
 "metadata": {
  "kernelspec": {
   "display_name": "Python 3 (ipykernel)",
   "language": "python",
   "name": "python3"
  },
  "language_info": {
   "codemirror_mode": {
    "name": "ipython",
    "version": 3
   },
   "file_extension": ".py",
   "mimetype": "text/x-python",
   "name": "python",
   "nbconvert_exporter": "python",
   "pygments_lexer": "ipython3",
   "version": "3.11.8"
  }
 },
 "nbformat": 4,
 "nbformat_minor": 5
}
